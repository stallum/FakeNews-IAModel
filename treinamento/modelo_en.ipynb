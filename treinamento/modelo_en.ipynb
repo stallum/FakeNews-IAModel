{
 "cells": [
  {
   "cell_type": "code",
   "execution_count": 8,
   "id": "87985258",
   "metadata": {},
   "outputs": [],
   "source": [
    "import pandas as pd # 1, 2, 3\n",
    "from sklearn.preprocessing import LabelEncoder # 1\n",
    "from sklearn.ensemble import RandomForestClassifier # 3\n",
    "from sklearn.model_selection import train_test_split # 3\n",
    "from sklearn.metrics import accuracy_score # 3\n",
    "from sklearn.feature_extraction.text import TfidfVectorizer # 3\n",
    "import pickle"
   ]
  },
  {
   "cell_type": "code",
   "execution_count": 9,
   "id": "c267cf99",
   "metadata": {},
   "outputs": [
    {
     "data": {
      "text/html": [
       "<div>\n",
       "<style scoped>\n",
       "    .dataframe tbody tr th:only-of-type {\n",
       "        vertical-align: middle;\n",
       "    }\n",
       "\n",
       "    .dataframe tbody tr th {\n",
       "        vertical-align: top;\n",
       "    }\n",
       "\n",
       "    .dataframe thead th {\n",
       "        text-align: right;\n",
       "    }\n",
       "</style>\n",
       "<table border=\"1\" class=\"dataframe\">\n",
       "  <thead>\n",
       "    <tr style=\"text-align: right;\">\n",
       "      <th></th>\n",
       "      <th>title</th>\n",
       "      <th>text</th>\n",
       "      <th>subject</th>\n",
       "      <th>date</th>\n",
       "    </tr>\n",
       "  </thead>\n",
       "  <tbody>\n",
       "    <tr>\n",
       "      <th>0</th>\n",
       "      <td>Donald Trump Sends Out Embarrassing New Year’...</td>\n",
       "      <td>Donald Trump just couldn t wish all Americans ...</td>\n",
       "      <td>News</td>\n",
       "      <td>December 31, 2017</td>\n",
       "    </tr>\n",
       "    <tr>\n",
       "      <th>1</th>\n",
       "      <td>Drunk Bragging Trump Staffer Started Russian ...</td>\n",
       "      <td>House Intelligence Committee Chairman Devin Nu...</td>\n",
       "      <td>News</td>\n",
       "      <td>December 31, 2017</td>\n",
       "    </tr>\n",
       "    <tr>\n",
       "      <th>2</th>\n",
       "      <td>Sheriff David Clarke Becomes An Internet Joke...</td>\n",
       "      <td>On Friday, it was revealed that former Milwauk...</td>\n",
       "      <td>News</td>\n",
       "      <td>December 30, 2017</td>\n",
       "    </tr>\n",
       "    <tr>\n",
       "      <th>3</th>\n",
       "      <td>Trump Is So Obsessed He Even Has Obama’s Name...</td>\n",
       "      <td>On Christmas day, Donald Trump announced that ...</td>\n",
       "      <td>News</td>\n",
       "      <td>December 29, 2017</td>\n",
       "    </tr>\n",
       "    <tr>\n",
       "      <th>4</th>\n",
       "      <td>Pope Francis Just Called Out Donald Trump Dur...</td>\n",
       "      <td>Pope Francis used his annual Christmas Day mes...</td>\n",
       "      <td>News</td>\n",
       "      <td>December 25, 2017</td>\n",
       "    </tr>\n",
       "  </tbody>\n",
       "</table>\n",
       "</div>"
      ],
      "text/plain": [
       "                                               title  \\\n",
       "0   Donald Trump Sends Out Embarrassing New Year’...   \n",
       "1   Drunk Bragging Trump Staffer Started Russian ...   \n",
       "2   Sheriff David Clarke Becomes An Internet Joke...   \n",
       "3   Trump Is So Obsessed He Even Has Obama’s Name...   \n",
       "4   Pope Francis Just Called Out Donald Trump Dur...   \n",
       "\n",
       "                                                text subject  \\\n",
       "0  Donald Trump just couldn t wish all Americans ...    News   \n",
       "1  House Intelligence Committee Chairman Devin Nu...    News   \n",
       "2  On Friday, it was revealed that former Milwauk...    News   \n",
       "3  On Christmas day, Donald Trump announced that ...    News   \n",
       "4  Pope Francis used his annual Christmas Day mes...    News   \n",
       "\n",
       "                date  \n",
       "0  December 31, 2017  \n",
       "1  December 31, 2017  \n",
       "2  December 30, 2017  \n",
       "3  December 29, 2017  \n",
       "4  December 25, 2017  "
      ]
     },
     "execution_count": 9,
     "metadata": {},
     "output_type": "execute_result"
    }
   ],
   "source": [
    "# importando os dados para treinamento\n",
    "dfEn_Fake = pd.read_csv('../data/raw_dataset/Fake.csv')\n",
    "dfEn_True = pd.read_csv('../data/raw_dataset/True.csv')\n",
    "\n",
    "dfEn_Fake.head()"
   ]
  },
  {
   "cell_type": "code",
   "execution_count": 10,
   "id": "605f9f0a",
   "metadata": {},
   "outputs": [
    {
     "data": {
      "text/html": [
       "<div>\n",
       "<style scoped>\n",
       "    .dataframe tbody tr th:only-of-type {\n",
       "        vertical-align: middle;\n",
       "    }\n",
       "\n",
       "    .dataframe tbody tr th {\n",
       "        vertical-align: top;\n",
       "    }\n",
       "\n",
       "    .dataframe thead th {\n",
       "        text-align: right;\n",
       "    }\n",
       "</style>\n",
       "<table border=\"1\" class=\"dataframe\">\n",
       "  <thead>\n",
       "    <tr style=\"text-align: right;\">\n",
       "      <th></th>\n",
       "      <th>text</th>\n",
       "      <th>Label</th>\n",
       "    </tr>\n",
       "  </thead>\n",
       "  <tbody>\n",
       "    <tr>\n",
       "      <th>44893</th>\n",
       "      <td>'Fully committed' NATO backs new U.S. approach...</td>\n",
       "      <td>true</td>\n",
       "    </tr>\n",
       "    <tr>\n",
       "      <th>44894</th>\n",
       "      <td>LexisNexis withdrew two products from Chinese ...</td>\n",
       "      <td>true</td>\n",
       "    </tr>\n",
       "    <tr>\n",
       "      <th>44895</th>\n",
       "      <td>Minsk cultural hub becomes haven from authorit...</td>\n",
       "      <td>true</td>\n",
       "    </tr>\n",
       "    <tr>\n",
       "      <th>44896</th>\n",
       "      <td>Vatican upbeat on possibility of Pope Francis ...</td>\n",
       "      <td>true</td>\n",
       "    </tr>\n",
       "    <tr>\n",
       "      <th>44897</th>\n",
       "      <td>Indonesia to buy $1.14 billion worth of Russia...</td>\n",
       "      <td>true</td>\n",
       "    </tr>\n",
       "  </tbody>\n",
       "</table>\n",
       "</div>"
      ],
      "text/plain": [
       "                                                    text Label\n",
       "44893  'Fully committed' NATO backs new U.S. approach...  true\n",
       "44894  LexisNexis withdrew two products from Chinese ...  true\n",
       "44895  Minsk cultural hub becomes haven from authorit...  true\n",
       "44896  Vatican upbeat on possibility of Pope Francis ...  true\n",
       "44897  Indonesia to buy $1.14 billion worth of Russia...  true"
      ]
     },
     "execution_count": 10,
     "metadata": {},
     "output_type": "execute_result"
    }
   ],
   "source": [
    "# limpandos os dados \n",
    "dfEn_True['text'], dfEn_Fake['text'] = dfEn_True['title'] + dfEn_True['text'], dfEn_Fake['title'] + dfEn_Fake['text']\n",
    "\n",
    "# rotular dados\n",
    "dfEn_Fake['Label'] = 'fake'\n",
    "dfEn_True['Label'] = 'true'\n",
    "\n",
    "#concatenar datasets\n",
    "dfEn = pd.concat((dfEn_Fake, dfEn_True), ignore_index=True)\n",
    "\n",
    "# Para apagar colunas específicas, use o método drop com axis=1\n",
    "dfEn = dfEn.drop(['title', 'subject', 'date'], axis=1, inplace=False)\n",
    "\n",
    "dfEn.tail()"
   ]
  },
  {
   "cell_type": "code",
   "execution_count": 11,
   "id": "5f1693de",
   "metadata": {},
   "outputs": [],
   "source": [
    "dfEn.to_csv('../data/processed_dataset/pre-processed-en.csv')\n",
    "dfEn.rename(columns={'text': 'preprocessed_news'}, inplace=True)\n",
    "dfEn.rename(columns={'Label': 'label'}, inplace=True)\n",
    "dfEn.tail()\n",
    "\n",
    "x = dfEn['preprocessed_news']\n",
    "\n",
    "y = dfEn['label']\n",
    "\n",
    "x_train, x_test, y_train, y_test = train_test_split(x, y, test_size=0.2, random_state=42)\n",
    "\n",
    "modelo = RandomForestClassifier()\n",
    "vetorizador = TfidfVectorizer()\n",
    "\n",
    "x_train = vetorizador.fit_transform(x_train)\n",
    "x_test = vetorizador.transform(x_test)\n",
    "modelo.fit(x_train, y_train)\n",
    "\n",
    "y_pred = modelo.predict(x_test)"
   ]
  },
  {
   "cell_type": "code",
   "execution_count": 12,
   "id": "76070f12",
   "metadata": {},
   "outputs": [
    {
     "name": "stdout",
     "output_type": "stream",
     "text": [
      "Acurácia: 98.9086859688196 %\n"
     ]
    }
   ],
   "source": [
    "# verificar a acurácia do modelo\n",
    "acuracia = accuracy_score(y_test, y_pred)\n",
    "print('Acurácia:', acuracia * 100,'%' )"
   ]
  },
  {
   "cell_type": "code",
   "execution_count": 13,
   "id": "ada6bb70",
   "metadata": {},
   "outputs": [],
   "source": [
    "with open('../../app/modelos/modelo_treinado_en.pkl', 'wb') as f:\n",
    "    pickle.dump(modelo, f)\n",
    "\n",
    "with open('../../app/modelos/vetorizadorEn.pkl', 'wb') as f:\n",
    "    pickle.dump(vetorizador, f)"
   ]
  },
  {
   "cell_type": "markdown",
   "id": "b80801c6",
   "metadata": {},
   "source": [
    "a = 'Natural health advocates around the world called it out right from the beginning of the pandemic, that it was all planned by communists and globalists to control the populace, take away their medical freedoms, get everyone injected with death jabs, and lessen the world’s population by a few billion. We were all right. Now, more proof is coming out as the patents for the deadly jabs were filed just as the virus broke and spread around the globe. Perfect timing, huh? Coincidence? We think not.Early Chinese military-linked COVID-19 vaccine patent sparks scrutiny over pandemic origins A Chinese patent for a COVID-19 vaccine, filed just weeks after the virus emerged in Wuhan, has drawn renewed attention from U.S. investigators probing the origins of the pandemic and potential early concealment of critical details. The February 24, 2020, application—submitted by three Chinese entities tied to the People’s Liberation Army (PLA)—outlined a “COVID-19 protein vaccine” and listed 11 inventors, including neuroscientists affiliated with China’s military. The timing and composition of the research team have raised questions about what Chinese scientists knew—and when—about the virus’s neurological effects, which were not widely recognized globally at the time. The patent’s lead inventor, Zhou Yusen, was a senior military scientist at China’s State Key Laboratory of Pathogen and Biosecurity and had previously collaborated with the Wuhan Institute of Virology on coronavirus research. Zhou died under unclear circumstances months after the outbreak began. Also named on the patent were researchers Yan Li and Gencheng Han, both linked to the Institute of Military Cognition and Brain Sciences—a PLA division focused on cognitive warfare, which explores the military applications of neuroscience. “Significantly, their published research provided limited, or no data of neuropathology observed in the experimental animals, or the neuroprotection afforded by the vaccine,” wrote Dr. Robert Kadlec, a former Trump administration health official, in a 2023 report examining pandemic origins. Kadlec noted that the involvement of military neuroscientists suggested an early interest in COVID-19’s neurological impact—before such effects were documented globally. The patent’s timing has fueled skepticism among U.S. officials. By late February 2020, the World Health Organization had not yet declared a pandemic, and Western researchers were only beginning to understand COVID-19’s respiratory effects. Yet Chinese scientists appeared to be developing a vaccine targeting neurological protection—a detail that aligns with later findings about the virus’s long-term cognitive impacts. Studies published in Nature and by Duke University in 2022 confirmed elevated risks of strokes, memory disorders, and sleep disturbances among survivors. The revelations coincide with newly disclosed U.S. intelligence assessments. A Defense Intelligence Agency (DIA) analysis from mid-2020—released via Freedom of Information Act requests—concluded that COVID-19 was likely genetically engineered, with elements traceable to a decade-old Wuhan Institute of Virology manuscript. The report described the virus’s spike protein as a “chimera,” a term denoting hybrid genetic material. Congressional investigators are now examining whether U.S. officials, including Dr. Anthony Fauci, downplayed the lab-leak theory early in the pandemic. Representative Darin LaHood (R-IL), a House Intelligence Committee member, framed China’s actions as part of a broader strategic rivalry. “China has a plan to replace the United States, and they’re working at it every single day,” LaHood said in a recent podcast. “They want to beat us technologically, militarily, economically and diplomatically.” The patent’s military connections also align with China’s documented interest in cognitive warfare. Elsa Kania, a defense analyst at the Center for New American Security, wrote in 2020 that PLA strategists view neurology as a battlefield tool, including tactics to “undermine an adversary’s capacity for cognition.” As investigations continue, the early vaccine patent underscores lingering questions about transparency—and whether critical details about COVID-19’s origins and effects were obscured in the pandemic’s crucial first months. For millions of survivors grappling with long-term neurological symptoms, the answers may hold both scientific and historical significance. The unfolding scrutiny reflects a deepening divide between U.S. and Chinese narratives about the pandemic. With bipartisan calls for accountability in Congress, the patent’s implications could shape future policies on biosecurity, scientific collaboration, and global preparedness for the next outbreak. Bookmark Plague.info to your favorite independent websites for updates on new gain-of-function viruses the CDC and WHO release into the “wild” beginning in China.'\n",
    "fakeorreal = modelo.predict(vetorizador.transform([a]))\n",
    "print(fakeorreal)"
   ]
  }
 ],
 "metadata": {
  "kernelspec": {
   "display_name": ".venv",
   "language": "python",
   "name": "python3"
  },
  "language_info": {
   "codemirror_mode": {
    "name": "ipython",
    "version": 3
   },
   "file_extension": ".py",
   "mimetype": "text/x-python",
   "name": "python",
   "nbconvert_exporter": "python",
   "pygments_lexer": "ipython3",
   "version": "3.13.3"
  }
 },
 "nbformat": 4,
 "nbformat_minor": 5
}
