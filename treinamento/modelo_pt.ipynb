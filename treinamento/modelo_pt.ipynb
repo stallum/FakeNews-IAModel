{
  "cells": [
    {
      "cell_type": "code",
      "execution_count": 1,
      "metadata": {
        "id": "Vv7403D7ErhV"
      },
      "outputs": [],
      "source": [
        "import pandas as pd # 1, 2, 3\n",
        "from sklearn.preprocessing import LabelEncoder # 1\n",
        "from sklearn.ensemble import RandomForestClassifier # 3\n",
        "from sklearn.model_selection import train_test_split # 3\n",
        "from sklearn.metrics import accuracy_score # 3\n",
        "from sklearn.feature_extraction.text import TfidfVectorizer # 3\n",
        "import pickle"
      ]
    },
    {
      "cell_type": "code",
      "execution_count": 2,
      "metadata": {
        "colab": {
          "base_uri": "https://localhost:8080/",
          "height": 206
        },
        "id": "VJhYk4euE6Bz",
        "outputId": "0c10ef54-06bf-47a2-d0e2-c86ad4e968a0"
      },
      "outputs": [
        {
          "data": {
            "text/html": [
              "<div>\n",
              "<style scoped>\n",
              "    .dataframe tbody tr th:only-of-type {\n",
              "        vertical-align: middle;\n",
              "    }\n",
              "\n",
              "    .dataframe tbody tr th {\n",
              "        vertical-align: top;\n",
              "    }\n",
              "\n",
              "    .dataframe thead th {\n",
              "        text-align: right;\n",
              "    }\n",
              "</style>\n",
              "<table border=\"1\" class=\"dataframe\">\n",
              "  <thead>\n",
              "    <tr style=\"text-align: right;\">\n",
              "      <th></th>\n",
              "      <th>index</th>\n",
              "      <th>label</th>\n",
              "      <th>preprocessed_news</th>\n",
              "    </tr>\n",
              "  </thead>\n",
              "  <tbody>\n",
              "    <tr>\n",
              "      <th>0</th>\n",
              "      <td>0</td>\n",
              "      <td>fake</td>\n",
              "      <td>katia abreu diz vai colocar expulsao moldura n...</td>\n",
              "    </tr>\n",
              "    <tr>\n",
              "      <th>1</th>\n",
              "      <td>1</td>\n",
              "      <td>fake</td>\n",
              "      <td>ray peita bolsonaro conservador fake entrevist...</td>\n",
              "    </tr>\n",
              "    <tr>\n",
              "      <th>2</th>\n",
              "      <td>2</td>\n",
              "      <td>fake</td>\n",
              "      <td>reinaldo azevedo desmascarado policia federal ...</td>\n",
              "    </tr>\n",
              "    <tr>\n",
              "      <th>3</th>\n",
              "      <td>3</td>\n",
              "      <td>fake</td>\n",
              "      <td>relatorio assustador bndes mostra dinheiro pub...</td>\n",
              "    </tr>\n",
              "    <tr>\n",
              "      <th>4</th>\n",
              "      <td>4</td>\n",
              "      <td>fake</td>\n",
              "      <td>radialista americano fala sobre pt vendem ilus...</td>\n",
              "    </tr>\n",
              "  </tbody>\n",
              "</table>\n",
              "</div>"
            ],
            "text/plain": [
              "   index label                                  preprocessed_news\n",
              "0      0  fake  katia abreu diz vai colocar expulsao moldura n...\n",
              "1      1  fake  ray peita bolsonaro conservador fake entrevist...\n",
              "2      2  fake  reinaldo azevedo desmascarado policia federal ...\n",
              "3      3  fake  relatorio assustador bndes mostra dinheiro pub...\n",
              "4      4  fake  radialista americano fala sobre pt vendem ilus..."
            ]
          },
          "execution_count": 2,
          "metadata": {},
          "output_type": "execute_result"
        }
      ],
      "source": [
        "# 1\n",
        "dfPt = pd.read_csv('../data/raw_dataset/pre-processed.csv')\n",
        "dfPt.head()"
      ]
    },
    {
      "cell_type": "code",
      "execution_count": 3,
      "metadata": {
        "id": "BOt-CHAITndW"
      },
      "outputs": [],
      "source": [
        "dfPt.to_csv('../data/processed_dataset/pre-processed-pt.csv', index=False)"
      ]
    },
    {
      "cell_type": "code",
      "execution_count": 4,
      "metadata": {
        "id": "6kNa5jQs_UTD"
      },
      "outputs": [],
      "source": [
        "dfPt = pd.read_csv('../data/processed_dataset/pre-processed-pt.csv')\n",
        "dfPt.head()\n",
        "x = dfPt['preprocessed_news']\n",
        "\n",
        "y = dfPt['label']\n",
        "\n",
        "x_train, x_test, y_train, y_test = train_test_split(x, y, test_size=0.2, random_state=42)\n",
        "\n",
        "modelo = RandomForestClassifier()\n",
        "vetorizador = TfidfVectorizer()\n",
        "\n",
        "x_train = vetorizador.fit_transform(x_train)\n",
        "x_test = vetorizador.transform(x_test)\n",
        "modelo.fit(x_train, y_train)\n",
        "\n",
        "y_pred = modelo.predict(x_test)"
      ]
    },
    {
      "cell_type": "code",
      "execution_count": 5,
      "metadata": {
        "colab": {
          "base_uri": "https://localhost:8080/"
        },
        "id": "Ekc5PqZwAq9G",
        "outputId": "59b10eea-bfe3-4dc9-ac2f-b17d235742a8"
      },
      "outputs": [
        {
          "name": "stdout",
          "output_type": "stream",
          "text": [
            "Acurácia: 95.41666666666667 %\n"
          ]
        }
      ],
      "source": [
        "# verificar a acurácia do modelo\n",
        "acuracia = accuracy_score(y_test, y_pred)\n",
        "print('Acurácia:', acuracia * 100,'%' )\n",
        "\n"
      ]
    },
    {
      "cell_type": "code",
      "execution_count": 6,
      "metadata": {},
      "outputs": [],
      "source": [
        "with open('../../app/modelos/modelo_treinado_pt.pkl', 'wb') as f:\n",
        "    pickle.dump(modelo, f)\n",
        "\n",
        "with open('../../app/modelos/vetorizadorPt.pkl', 'wb') as f:\n",
        "    pickle.dump(vetorizador, f)"
      ]
    }
  ],
  "metadata": {
    "colab": {
      "provenance": []
    },
    "kernelspec": {
      "display_name": ".venv",
      "language": "python",
      "name": "python3"
    },
    "language_info": {
      "codemirror_mode": {
        "name": "ipython",
        "version": 3
      },
      "file_extension": ".py",
      "mimetype": "text/x-python",
      "name": "python",
      "nbconvert_exporter": "python",
      "pygments_lexer": "ipython3",
      "version": "3.13.3"
    }
  },
  "nbformat": 4,
  "nbformat_minor": 0
}
